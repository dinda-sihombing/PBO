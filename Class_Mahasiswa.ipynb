{
  "nbformat": 4,
  "nbformat_minor": 0,
  "metadata": {
    "colab": {
      "provenance": [],
      "authorship_tag": "ABX9TyOyrOeqNGnh25BvOQp3HMKZ",
      "include_colab_link": true
    },
    "kernelspec": {
      "name": "python3",
      "display_name": "Python 3"
    },
    "language_info": {
      "name": "python"
    }
  },
  "cells": [
    {
      "cell_type": "markdown",
      "metadata": {
        "id": "view-in-github",
        "colab_type": "text"
      },
      "source": [
        "<a href=\"https://colab.research.google.com/github/dinda-sihombing/PBO/blob/main/Class_Mahasiswa.ipynb\" target=\"_parent\"><img src=\"https://colab.research.google.com/assets/colab-badge.svg\" alt=\"Open In Colab\"/></a>"
      ]
    },
    {
      "cell_type": "code",
      "execution_count": 1,
      "metadata": {
        "colab": {
          "base_uri": "https://localhost:8080/"
        },
        "id": "dCyCbQGfppp8",
        "outputId": "ce81f1c6-a477-4916-e06d-ceef6f192eae"
      },
      "outputs": [
        {
          "output_type": "stream",
          "name": "stdout",
          "text": [
            "Nama: Budi, NIM: 123456\n"
          ]
        }
      ],
      "source": [
        "class Mahasiswa:\n",
        "    def __init__(self, nama, nim):\n",
        "        self.nama = nama\n",
        "        self.nim = nim\n",
        "\n",
        "    def perkenalan(self):\n",
        "        return f\"Nama: {self.nama}, NIM: {self.nim}\"\n",
        "\n",
        "# Membuat objek dari class Mahasiswa\n",
        "mahasiswa1 = Mahasiswa(\"Dinda\", \"230705094\")\n",
        "print(mahasiswa1.perkenalan())"
      ]
    }
  ]
}