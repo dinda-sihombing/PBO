{
  "nbformat": 4,
  "nbformat_minor": 0,
  "metadata": {
    "colab": {
      "provenance": [],
      "authorship_tag": "ABX9TyMSAH4FJiGcIPRrmSiTUSjd",
      "include_colab_link": true
    },
    "kernelspec": {
      "name": "python3",
      "display_name": "Python 3"
    },
    "language_info": {
      "name": "python"
    }
  },
  "cells": [
    {
      "cell_type": "markdown",
      "metadata": {
        "id": "view-in-github",
        "colab_type": "text"
      },
      "source": [
        "<a href=\"https://colab.research.google.com/github/dinda-sihombing/PBO/blob/main/Class_Buku.ipynb\" target=\"_parent\"><img src=\"https://colab.research.google.com/assets/colab-badge.svg\" alt=\"Open In Colab\"/></a>"
      ]
    },
    {
      "cell_type": "code",
      "execution_count": null,
      "metadata": {
        "id": "MW8zgv4Xqa_q"
      },
      "outputs": [],
      "source": [
        "class Buku:\n",
        "    def __init__(self, judul, penulis):\n",
        "        self.judul = judul\n",
        "        self.penulis = penulis\n",
        "\n",
        "    def deskripsi(self):\n",
        "        return f\"Buku: {self.judul}, Penulis: {self.penulis}\"\n",
        "\n",
        "# Membuat objek dari class Buku\n",
        "buku1 = Buku(\"Belajar Python\", \"John Doe\")\n",
        "print(buku1.deskripsi())"
      ]
    }
  ]
}